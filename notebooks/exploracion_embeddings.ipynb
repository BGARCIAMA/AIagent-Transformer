{
 "cells": [
  {
   "cell_type": "code",
   "execution_count": 1,
   "id": "8b42b3a5",
   "metadata": {},
   "outputs": [
    {
     "name": "stderr",
     "output_type": "stream",
     "text": [
      "/Users/blancagarcia/Documents/4to_Sem/Temas_selectos_análisis_datos/AIagent-Transformer/venv/lib/python3.11/site-packages/tqdm/auto.py:21: TqdmWarning: IProgress not found. Please update jupyter and ipywidgets. See https://ipywidgets.readthedocs.io/en/stable/user_install.html\n",
      "  from .autonotebook import tqdm as notebook_tqdm\n"
     ]
    }
   ],
   "source": [
    "from sentence_transformers import SentenceTransformer, util\n",
    "import pandas as pd\n",
    "\n",
    "# Cargamos el modelo de embeddings\n",
    "model = SentenceTransformer('all-MiniLM-L6-v2')"
   ]
  },
  {
   "cell_type": "code",
   "execution_count": 2,
   "id": "f0cd969f",
   "metadata": {},
   "outputs": [],
   "source": [
    "# Columnas fuente y destino simuladas\n",
    "columnas_fuente = [\"nombre_cliente\", \"fecha_transacción\", \"monto_total\"]\n",
    "columnas_destino = [\"cliente_nombre\", \"transaction_date\", \"total_amount\"]"
   ]
  },
  {
   "cell_type": "code",
   "execution_count": 3,
   "id": "fb11ee6f",
   "metadata": {},
   "outputs": [
    {
     "data": {
      "text/html": [
       "<div>\n",
       "<style scoped>\n",
       "    .dataframe tbody tr th:only-of-type {\n",
       "        vertical-align: middle;\n",
       "    }\n",
       "\n",
       "    .dataframe tbody tr th {\n",
       "        vertical-align: top;\n",
       "    }\n",
       "\n",
       "    .dataframe thead th {\n",
       "        text-align: right;\n",
       "    }\n",
       "</style>\n",
       "<table border=\"1\" class=\"dataframe\">\n",
       "  <thead>\n",
       "    <tr style=\"text-align: right;\">\n",
       "      <th></th>\n",
       "      <th>cliente_nombre</th>\n",
       "      <th>transaction_date</th>\n",
       "      <th>total_amount</th>\n",
       "    </tr>\n",
       "  </thead>\n",
       "  <tbody>\n",
       "    <tr>\n",
       "      <th>nombre_cliente</th>\n",
       "      <td>0.969959</td>\n",
       "      <td>0.181694</td>\n",
       "      <td>0.215277</td>\n",
       "    </tr>\n",
       "    <tr>\n",
       "      <th>fecha_transacción</th>\n",
       "      <td>0.315927</td>\n",
       "      <td>0.236916</td>\n",
       "      <td>0.186389</td>\n",
       "    </tr>\n",
       "    <tr>\n",
       "      <th>monto_total</th>\n",
       "      <td>0.309879</td>\n",
       "      <td>0.070289</td>\n",
       "      <td>0.520980</td>\n",
       "    </tr>\n",
       "  </tbody>\n",
       "</table>\n",
       "</div>"
      ],
      "text/plain": [
       "                   cliente_nombre  transaction_date  total_amount\n",
       "nombre_cliente           0.969959          0.181694      0.215277\n",
       "fecha_transacción        0.315927          0.236916      0.186389\n",
       "monto_total              0.309879          0.070289      0.520980"
      ]
     },
     "execution_count": 3,
     "metadata": {},
     "output_type": "execute_result"
    }
   ],
   "source": [
    "# Embeddings\n",
    "emb_fuente = model.encode(columnas_fuente, convert_to_tensor=True)\n",
    "emb_destino = model.encode(columnas_destino, convert_to_tensor=True)\n",
    "\n",
    "# Similitud coseno\n",
    "sim_matrix = util.cos_sim(emb_fuente, emb_destino).cpu().numpy()\n",
    "\n",
    "# Mostrar como DataFrame\n",
    "df_sim = pd.DataFrame(sim_matrix, index=columnas_fuente, columns=columnas_destino)\n",
    "df_sim"
   ]
  },
  {
   "cell_type": "code",
   "execution_count": 4,
   "id": "997115e1",
   "metadata": {},
   "outputs": [
    {
     "data": {
      "text/plain": [
       "{'nombre_cliente': 'cliente_nombre',\n",
       " 'fecha_transacción': 'cliente_nombre',\n",
       " 'monto_total': 'total_amount'}"
      ]
     },
     "execution_count": 4,
     "metadata": {},
     "output_type": "execute_result"
    }
   ],
   "source": [
    "# Extraer el mejor match por fila\n",
    "mapeo = {}\n",
    "for i, fuente in enumerate(columnas_fuente):\n",
    "    mejor_idx = sim_matrix[i].argmax()\n",
    "    mapeo[fuente] = columnas_destino[mejor_idx]\n",
    "\n",
    "mapeo"
   ]
  }
 ],
 "metadata": {
  "kernelspec": {
   "display_name": "venv",
   "language": "python",
   "name": "python3"
  },
  "language_info": {
   "codemirror_mode": {
    "name": "ipython",
    "version": 3
   },
   "file_extension": ".py",
   "mimetype": "text/x-python",
   "name": "python",
   "nbconvert_exporter": "python",
   "pygments_lexer": "ipython3",
   "version": "3.11.5"
  }
 },
 "nbformat": 4,
 "nbformat_minor": 5
}
